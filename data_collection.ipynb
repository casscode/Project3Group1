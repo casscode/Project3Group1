{
 "cells": [
  {
   "cell_type": "code",
   "execution_count": 56,
   "source": [
    "# Import Splinter and BeautifulSoup\r\n",
    "from splinter import Browser\r\n",
    "from bs4 import BeautifulSoup\r\n",
    "import pandas as pd"
   ],
   "outputs": [],
   "metadata": {}
  },
  {
   "cell_type": "code",
   "execution_count": 57,
   "source": [
    "browser = Browser('chrome')"
   ],
   "outputs": [],
   "metadata": {}
  },
  {
   "cell_type": "code",
   "execution_count": 58,
   "source": [
    "url = 'https://www.planecrashinfo.com/database.htm'\r\n",
    "browser.visit(url)"
   ],
   "outputs": [],
   "metadata": {}
  },
  {
   "cell_type": "code",
   "execution_count": 59,
   "source": [
    "df = pd.DataFrame(columns=['date', 'time', 'location','operator'])"
   ],
   "outputs": [],
   "metadata": {}
  },
  {
   "cell_type": "code",
   "execution_count": 60,
   "source": [
    "html = browser.html\r\n",
    "soup = BeautifulSoup(html, 'html.parser')\r\n",
    "year_list = browser.links.find_by_partial_href('/')\r\n",
    "\r\n",
    "for year in year_list:\r\n",
    "    year.click()\r\n",
    "    event_list = browser.links.find_by_partial_href('-')\r\n",
    "    for event in event_list:\r\n",
    "        event.click()\r\n",
    "        html = browser.html\r\n",
    "        soup = BeautifulSoup(html, 'html.parser')\r\n",
    "        date = soup.find(\"td\", string=\"Date:\").find_next('td').text\r\n",
    "        time = soup.find(\"td\", string=\"Time:\").find_next('td').text\r\n",
    "        location = soup.find(\"td\", string=\"Location:\").find_next('td').text\r\n",
    "        operator = soup.find(\"td\", string=\"Operator:\").find_next('td').text\r\n",
    "        new_row = {'date':date,'time':time,'location':location,'operator':operator}\r\n",
    "        print(new_row)\r\n",
    "        new_row_df = pd.DataFrame([new_row])\r\n",
    "        pd.concat([df, new_row_df])\r\n",
    "        browser.back()\r\n",
    "    browser.back()"
   ],
   "outputs": [
    {
     "output_type": "error",
     "ename": "TypeError",
     "evalue": "'int' object is not iterable",
     "traceback": [
      "\u001b[1;31m---------------------------------------------------------------------------\u001b[0m",
      "\u001b[1;31mTypeError\u001b[0m                                 Traceback (most recent call last)",
      "Cell \u001b[1;32mIn[60], line 5\u001b[0m\n\u001b[0;32m      2\u001b[0m soup \u001b[38;5;241m=\u001b[39m BeautifulSoup(html, \u001b[38;5;124m'\u001b[39m\u001b[38;5;124mhtml.parser\u001b[39m\u001b[38;5;124m'\u001b[39m)\n\u001b[0;32m      3\u001b[0m year_list \u001b[38;5;241m=\u001b[39m browser\u001b[38;5;241m.\u001b[39mlinks\u001b[38;5;241m.\u001b[39mfind_by_partial_href(\u001b[38;5;124m'\u001b[39m\u001b[38;5;124m/\u001b[39m\u001b[38;5;124m'\u001b[39m)\n\u001b[1;32m----> 5\u001b[0m \u001b[38;5;28;01mfor\u001b[39;00m i \u001b[38;5;129;01min\u001b[39;00m \u001b[38;5;28mlen\u001b[39m(year_list):\n\u001b[0;32m      6\u001b[0m     year_list[i]\u001b[38;5;241m.\u001b[39mclick()\n\u001b[0;32m      7\u001b[0m     event_list \u001b[38;5;241m=\u001b[39m browser\u001b[38;5;241m.\u001b[39mlinks\u001b[38;5;241m.\u001b[39mfind_by_partial_href(\u001b[38;5;124m'\u001b[39m\u001b[38;5;124m-\u001b[39m\u001b[38;5;124m'\u001b[39m)\n",
      "\u001b[1;31mTypeError\u001b[0m: 'int' object is not iterable"
     ]
    }
   ],
   "metadata": {}
  },
  {
   "cell_type": "code",
   "execution_count": 43,
   "source": [
    "display(df)"
   ],
   "outputs": [
    {
     "output_type": "display_data",
     "data": {
      "text/plain": [
       "Empty DataFrame\n",
       "Columns: [date, time, location, operator]\n",
       "Index: []"
      ],
      "text/html": [
       "<div>\n",
       "<style scoped>\n",
       "    .dataframe tbody tr th:only-of-type {\n",
       "        vertical-align: middle;\n",
       "    }\n",
       "\n",
       "    .dataframe tbody tr th {\n",
       "        vertical-align: top;\n",
       "    }\n",
       "\n",
       "    .dataframe thead th {\n",
       "        text-align: right;\n",
       "    }\n",
       "</style>\n",
       "<table border=\"1\" class=\"dataframe\">\n",
       "  <thead>\n",
       "    <tr style=\"text-align: right;\">\n",
       "      <th></th>\n",
       "      <th>date</th>\n",
       "      <th>time</th>\n",
       "      <th>location</th>\n",
       "      <th>operator</th>\n",
       "    </tr>\n",
       "  </thead>\n",
       "  <tbody>\n",
       "  </tbody>\n",
       "</table>\n",
       "</div>"
      ]
     },
     "metadata": {}
    }
   ],
   "metadata": {}
  },
  {
   "cell_type": "markdown",
   "source": [
    "html = browser.html\r\n",
    "soup = BeautifulSoup(html, 'html.parser')\r\n",
    "year_list = browser.links.find_by_partial_text('.htm')\r\n",
    "print(year_list)"
   ],
   "metadata": {}
  }
 ],
 "metadata": {
  "orig_nbformat": 4,
  "language_info": {
   "name": "python",
   "version": "3.11.3",
   "mimetype": "text/x-python",
   "codemirror_mode": {
    "name": "ipython",
    "version": 3
   },
   "pygments_lexer": "ipython3",
   "nbconvert_exporter": "python",
   "file_extension": ".py"
  },
  "kernelspec": {
   "name": "python3",
   "display_name": "Python 3.11.3 64-bit (conda)"
  },
  "interpreter": {
   "hash": "e660af3098993ea5160fd9270f74e6db286e749e474b6bbf115c5a1892218496"
  }
 },
 "nbformat": 4,
 "nbformat_minor": 2
}